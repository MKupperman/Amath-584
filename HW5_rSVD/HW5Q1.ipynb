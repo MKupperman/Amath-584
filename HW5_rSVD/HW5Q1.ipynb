{
 "cells": [
  {
   "cell_type": "markdown",
   "metadata": {},
   "source": [
    "# Homework 5 Q1\n",
    "#### Michael Kupperman\n",
    "Eigenvectors, power iterations, and randomized linear algebra"
   ]
  },
  {
   "cell_type": "code",
   "execution_count": 2,
   "metadata": {},
   "outputs": [],
   "source": [
    "import numpy as np\n",
    "import matplotlib.pyplot as plt\n",
    "import sys\n",
    "np.set_printoptions(threshold=sys.maxsize)\n",
    "np.set_printoptions(edgeitems=10)\n",
    "np.core.arrayprint._line_width = 300"
   ]
  },
  {
   "cell_type": "code",
   "execution_count": 3,
   "metadata": {},
   "outputs": [
    {
     "data": {
      "text/html": [
       "<style>.container { width:100% !important; }</style>"
      ],
      "text/plain": [
       "<IPython.core.display.HTML object>"
      ]
     },
     "metadata": {},
     "output_type": "display_data"
    }
   ],
   "source": [
    "# Optional - set width to 100% of screen (- buffer). Good for laptops, bad for ultrawides\n",
    "from IPython.core.display import display, HTML\n",
    "display(HTML(\"<style>.container { width:100% !important; }</style>\"))"
   ]
  },
  {
   "cell_type": "markdown",
   "metadata": {},
   "source": [
    "## 1. Eigenvalues and Power Iteration\n",
    "### a) \n",
    "Generate a random, symmetric matrix `A` which is ` m x m ` where $ m = 10 $.  Use the `EIGS` command in MATLAB (or the equivalent `np.linalg.eigen` in Python) to give you the ground truth eigenvalues and eigenvectors."
   ]
  },
  {
   "cell_type": "code",
   "execution_count": 4,
   "metadata": {},
   "outputs": [],
   "source": [
    "m = 10"
   ]
  },
  {
   "cell_type": "code",
   "execution_count": 5,
   "metadata": {},
   "outputs": [
    {
     "name": "stdout",
     "output_type": "stream",
     "text": [
      "True Eigenvalues are:\n",
      "-4.73689841120034 4.354233737452332 -3.46450262187843 -2.9302454734203787 -1.8823896506188922 3.0013878715733364 -0.2847720013748086 1.0506365662288204 1.3771467440673422 1.7266618549974555\n",
      "Associated Eigenvectors are:\n",
      "[[-0.241686   -0.33693205  0.29361603  0.31935538 -0.48937666  0.14422075\n",
      "   0.15570734  0.27099268 -0.53087014  0.00850803]\n",
      " [-0.4865936  -0.22475037  0.1028817   0.14764108  0.18144826  0.07384822\n",
      "  -0.72993711 -0.32883466 -0.0188558   0.02565974]\n",
      " [ 0.09528441  0.38363733 -0.17847406 -0.18337449 -0.0504273   0.25508568\n",
      "  -0.06302633 -0.29642149 -0.54074885  0.57131877]\n",
      " [-0.48257467  0.30038791  0.14564368 -0.10216409  0.07201616  0.57910773\n",
      "   0.14605489  0.34720844  0.36201492  0.17817574]\n",
      " [ 0.07085908 -0.05687775  0.48898195 -0.49833159 -0.2602612  -0.3771098\n",
      "  -0.25307007  0.21881952  0.15582373  0.39768206]\n",
      " [ 0.29563579  0.02016148 -0.30585352  0.55023934 -0.28820392  0.03972598\n",
      "  -0.31336859  0.2569213   0.33644937  0.39222063]\n",
      " [-0.5267639   0.26817206 -0.50655123 -0.07842526 -0.13078976 -0.51438687\n",
      "  -0.0317683   0.2900134  -0.13885382 -0.04197236]\n",
      " [ 0.07288694 -0.20619904  0.04253043  0.13220166  0.73662483 -0.12443476\n",
      "   0.02593952  0.46500812 -0.26235262  0.29841059]\n",
      " [-0.26663283  0.06311683  0.23880693  0.38731965  0.06817268 -0.36193978\n",
      "   0.4516045  -0.42734753  0.20582315  0.39152818]\n",
      " [-0.12864611 -0.69028543 -0.44950912 -0.32773242 -0.0684892   0.13580915\n",
      "   0.22309113 -0.11469335  0.16249791  0.29158967]]\n"
     ]
    }
   ],
   "source": [
    "# Introduce a random state generator\n",
    "rng = np.random.default_rng()\n",
    "A = rng.standard_normal(m * m).reshape(m,m)\n",
    "for i in range(m):\n",
    "    for j in range(i):\n",
    "        A[i,j] = A[j,i]\n",
    "\n",
    "true_eigenvalues, true_eigenvectors = np.linalg.eig(A)\n",
    "\n",
    "print('True Eigenvalues are:')\n",
    "print(*true_eigenvalues)\n",
    "\n",
    "print('Associated Eigenvectors are:')\n",
    "print(true_eigenvectors)"
   ]
  },
  {
   "cell_type": "markdown",
   "metadata": {},
   "source": [
    "### b) \n",
    "Find the largest eigenvalue with the power iteration method.  Compare the accuracy of the method as a function of iterations."
   ]
  },
  {
   "cell_type": "code",
   "execution_count": 73,
   "metadata": {},
   "outputs": [],
   "source": [
    "def power_iter(mat, nsteps, init_guess=None):\n",
    "    \"\"\" Perform `nsteps` of power iteration on init_guess using matrix `mat`. \n",
    "        If no guess is provided \\hat{e}_1 is used instead \"\"\"\n",
    "    if init_guess is None:\n",
    "        init_guess = np.zeros(mat.shape[0])\n",
    "        init_guess[0] = 1\n",
    "    iterates = [init_guess]\n",
    "    eigens = []\n",
    "    for idx in range(nsteps):\n",
    "        v1 = np.dot(mat, iterates[-1]) \n",
    "        v1 = v1 / np.linalg.norm(v1)\n",
    "        iterates.append(v1)\n",
    "        eigens.append(np.vdot(v1, np.dot(mat, v1)))\n",
    "    return iterates, eigens"
   ]
  },
  {
   "cell_type": "code",
   "execution_count": 7,
   "metadata": {},
   "outputs": [],
   "source": [
    "n_iter = 500\n",
    "iterates, eigens = power_iter(A, n_iter)\n",
    "estimate_eigenvalue = eigens[-1]\n",
    "errors = abs(eigens - true_eigenvalues[0])"
   ]
  },
  {
   "cell_type": "code",
   "execution_count": 9,
   "metadata": {},
   "outputs": [
    {
     "data": {
      "image/png": "[encoded data removed]",
      "text/plain": [
       "<Figure size 432x288 with 1 Axes>"
      ]
     },
     "metadata": {
      "needs_background": "light"
     },
     "output_type": "display_data"
    }
   ],
   "source": [
    "plt.plot(np.arange(n_iter), errors)\n",
    "plt.yscale('log')\n",
    "plt.xlabel('Iterates')\n",
    "plt.ylabel('absolute error')\n",
    "plt.title('Power iteration error of leading eigenvalue')\n",
    "plt.savefig('Figures/f1.eps')\n",
    "plt.show()"
   ]
  },
  {
   "cell_type": "code",
   "execution_count": 10,
   "metadata": {},
   "outputs": [
    {
     "data": {
      "text/plain": [
       "1.687538997430238e-14"
      ]
     },
     "execution_count": 10,
     "metadata": {},
     "output_type": "execute_result"
    }
   ],
   "source": [
    "errors[350]"
   ]
  },
  {
   "cell_type": "markdown",
   "metadata": {},
   "source": [
    "We are able to obtain the eigenvalue within 50 to 350 iterates depending on the matrix to an error on the order (or slightly better) of machine epsilon, $2 \\times 10^{-16}$.\n",
    "\n",
    "\n",
    "The first few initial iterates are not indicative of the convergence rate given the quality of the initial guess. The eigenvalue conveges at a decent speed until we approach machine epsilon. For some matricies, the iteration gives the exact eigenvalue up to machine precision from the `np.linalg.eigen` command.\n",
    "\n",
    "\n"
   ]
  },
  {
   "cell_type": "markdown",
   "metadata": {},
   "source": [
    "### C)\n",
    "\n",
    "Find all ten eigenvalues by Rayleigh Quotient iteration and guessing initial ”eigenvectors”. Compare the accuracy of the method as a function of iterations and discuss your initial guesses to find all eigenvalue/eigenvector pairs."
   ]
  },
  {
   "cell_type": "code",
   "execution_count": 20,
   "metadata": {},
   "outputs": [],
   "source": [
    "def RQiter(A, steps, init_guess):\n",
    "    \"\"\"Iterate for `steps` using Rayleigh Quotient Iteration\"\"\"\n",
    "    guesses = [init_guess / np.linalg.norm(init_guess)]\n",
    "    eigenvalues = [np.vdot(guesses[0], np.dot(A, guesses[0]))]\n",
    "\n",
    "    for k in range(steps):\n",
    "        Am = A - eigenvalues[-1] * np.eye(A.shape[0], A.shape[1]) \n",
    "        w = np.linalg.solve(Am, guesses[-1])\n",
    "        v = w/np.linalg.norm(w)\n",
    "        guesses.append(v)\n",
    "        eigenvalues.append(np.vdot(v, np.dot(A, v)))\n",
    "    return guesses, eigenvalues"
   ]
  },
  {
   "cell_type": "code",
   "execution_count": 21,
   "metadata": {},
   "outputs": [],
   "source": [
    "init_guess = np.zeros(A.shape[0])\n",
    "init_guess[1] = 1\n",
    "nsteps = 7\n",
    "eigenvec_iter, eigenval_iter = RQiter(A, nsteps, init_guess)"
   ]
  },
  {
   "cell_type": "code",
   "execution_count": 22,
   "metadata": {},
   "outputs": [
    {
     "data": {
      "image/png": "[encoded data removed]",
      "text/plain": [
       "<Figure size 432x288 with 1 Axes>"
      ]
     },
     "metadata": {
      "needs_background": "light"
     },
     "output_type": "display_data"
    }
   ],
   "source": [
    "np_eigenval_iter = np.asarray(eigenval_iter)\n",
    "loc = np.argmin(np.abs(np_eigenval_iter[-1] - true_eigenvalues))\n",
    "plt.plot(np.arange(nsteps+1), np.abs(np_eigenval_iter - true_eigenvalues[loc]))\n",
    "plt.yscale('log')\n",
    "plt.title('RQ error as a function of number of iterations')\n",
    "plt.ylabel('Absolute error')\n",
    "plt.xlabel('Iteration')\n",
    "plt.savefig('Figures/f2.eps')\n",
    "plt.show()"
   ]
  },
  {
   "cell_type": "markdown",
   "metadata": {},
   "source": [
    "The initial guess $\\hat{e}_2$ gives a good estimate of the eigenvalue after three iteration of the Rayleigh Quotient method. We reach machine epsilon after four iterations, and are unable to attain or bypass machine epsilon."
   ]
  },
  {
   "cell_type": "markdown",
   "metadata": {},
   "source": [
    "Our strategy is to guess an initial vector and use it to compute an eigenvalue. We'll sample until we find all eigenvalues. "
   ]
  },
  {
   "cell_type": "code",
   "execution_count": 15,
   "metadata": {},
   "outputs": [
    {
     "name": "stdout",
     "output_type": "stream",
     "text": [
      "10\n"
     ]
    }
   ],
   "source": [
    "eigenvalues_found = np.full(m, fill_value=np.inf)\n",
    "n_eigenvalues_found = 0\n",
    "eigenvectors_found = []\n",
    "ntests = 0\n",
    "while n_eigenvalues_found < m:\n",
    "    ntests += 1\n",
    "    # Loop until we find all eigenvalues\n",
    "    eigen_guess = rng.standard_normal(m)  # get a random guess\n",
    "    # Map the random guess into the orthogonal subspace\n",
    "    # We'll do a quick orthogonal triangularization to get to about the right direction, the algorithm is good enough to pickup the slack\n",
    "    for index in range(n_eigenvalues_found):\n",
    "        eigen_guess -= np.dot(eigen_guess, eigenvectors_found[index]) / np.linalg.norm(eigenvectors_found[index]) * eigenvectors_found[index] \n",
    "    eigen_guess = eigen_guess / np.linalg.norm(eigen_guess)\n",
    "    evec_iter, eval_iter = RQiter(A, 8, eigen_guess)  # iterate to the eigenvalue\n",
    "    #See if we already found that eigenvalue\n",
    "    eigen_errors = np.abs(eigenvalues_found - eval_iter[-1])\n",
    "    if ntests == 1:\n",
    "        # The first eigenvalue must be added\n",
    "        eigenvalues_found[n_eigenvalues_found] = eval_iter[-1]\n",
    "        n_eigenvalues_found += 1\n",
    "        eigenvectors_found.append(evec_iter[-1])\n",
    "    elif np.amin(eigen_errors) > (10 ** -10):\n",
    "        # eigenvalue must be different enough\n",
    "        eigenvalues_found[n_eigenvalues_found] = eval_iter[-1]\n",
    "        n_eigenvalues_found += 1\n",
    "        eigenvectors_found.append(evec_iter[-1])\n",
    "print(ntests)"
   ]
  },
  {
   "cell_type": "code",
   "execution_count": 16,
   "metadata": {},
   "outputs": [
    {
     "name": "stdout",
     "output_type": "stream",
     "text": [
      "1.050636566228821 4.354233737452329 -2.930245473420375 -1.8823896506188937 -0.28477200137480735 1.37714674406734 -4.736898411200357 1.7266618549974555 3.0013878715733338 -3.464502621878432\n"
     ]
    }
   ],
   "source": [
    "print(*eigenvalues_found)"
   ]
  },
  {
   "cell_type": "code",
   "execution_count": 17,
   "metadata": {},
   "outputs": [
    {
     "name": "stdout",
     "output_type": "stream",
     "text": [
      "[-1.77635684e-14 -1.77635684e-15  3.55271368e-15 -1.55431223e-15\n",
      "  1.27675648e-15  6.66133815e-16 -2.22044605e-15  0.00000000e+00\n",
      " -2.66453526e-15 -2.66453526e-15]\n"
     ]
    }
   ],
   "source": [
    "# Sort the eigenvalues so we align pairs and find errors\n",
    "RQ_errors = np.sort(eigenvalues_found) - np.sort(true_eigenvalues)\n",
    "print(RQ_errors)"
   ]
  },
  {
   "cell_type": "markdown",
   "metadata": {},
   "source": [
    "### d)\n",
    "Repeat parts b/c with a random matrix that is not symmetric. Be sure to plot the eigenvalues in the complex plane. "
   ]
  },
  {
   "cell_type": "code",
   "execution_count": 37,
   "metadata": {},
   "outputs": [
    {
     "name": "stdout",
     "output_type": "stream",
     "text": [
      "True Eigenvalues are:\n",
      "(3.1222333192954963+0j) (1.8622582607019196+1.3377629295077964j) (1.8622582607019196-1.3377629295077964j) (-0.5673071480146334+2.141246890088279j) (-0.5673071480146334-2.141246890088279j) (-1.271913749702506+1.8180459589729812j) (-1.271913749702506-1.8180459589729812j) (-1.883079337874104+0j) (0.30096079936601183+0j) (0.016678250118384755+0j)\n",
      "Associated Eigenvectors are:\n",
      "[[ 0.07753608+0.j          0.36199162-0.25781136j  0.36199162+0.25781136j\n",
      "  -0.36654919-0.10893239j -0.36654919+0.10893239j -0.02491515+0.00515682j\n",
      "  -0.02491515-0.00515682j -0.64218347+0.j         -0.20213393+0.j\n",
      "   0.19726466+0.j        ]\n",
      " [ 0.21049907+0.j          0.05856065+0.38020336j  0.05856065-0.38020336j\n",
      "  -0.19072779+0.354762j   -0.19072779-0.354762j   -0.1982743 -0.3681363j\n",
      "  -0.1982743 +0.3681363j   0.1975906 +0.j          0.47104062+0.j\n",
      "  -0.27308916+0.j        ]\n",
      " [ 0.48618462+0.j          0.45309001+0.j          0.45309001-0.j\n",
      "  -0.06884985+0.03822728j -0.06884985-0.03822728j -0.19046906-0.30687864j\n",
      "  -0.19046906+0.30687864j -0.19133302+0.j          0.5759963 +0.j\n",
      "  -0.20070858+0.j        ]\n",
      " [-0.27120941+0.j         -0.44554135-0.07267401j -0.44554135+0.07267401j\n",
      "  -0.42452166+0.j         -0.42452166-0.j          0.28264253+0.0180815j\n",
      "   0.28264253-0.0180815j   0.29360272+0.j         -0.17379274+0.j\n",
      "   0.4502192 +0.j        ]\n",
      " [-0.53281683+0.j         -0.15704211+0.09764239j -0.15704211-0.09764239j\n",
      "  -0.13007324-0.22906469j -0.13007324+0.22906469j  0.06582791-0.229922j\n",
      "   0.06582791+0.229922j    0.07750593+0.j         -0.00781073+0.j\n",
      "  -0.01839876+0.j        ]\n",
      " [ 0.13542869+0.j         -0.03473686+0.23036225j -0.03473686-0.23036225j\n",
      "  -0.28326537-0.24326503j -0.28326537+0.24326503j  0.44811053+0.j\n",
      "   0.44811053-0.j          0.29284433+0.j         -0.37869129+0.j\n",
      "   0.53490559+0.j        ]\n",
      " [-0.40949262+0.j          0.06880169+0.22835755j  0.06880169-0.22835755j\n",
      "  -0.05005271-0.00427038j -0.05005271+0.00427038j  0.02780854+0.01637037j\n",
      "   0.02780854-0.01637037j  0.02904567+0.j          0.46925139+0.j\n",
      "  -0.31037253+0.j        ]\n",
      " [-0.16558388+0.j         -0.04434652+0.18607901j -0.04434652-0.18607901j\n",
      "  -0.16411137+0.3266637j  -0.16411137-0.3266637j   0.27836483-0.31654216j\n",
      "   0.27836483+0.31654216j  0.31949646+0.j         -0.09866726+0.j\n",
      "   0.28888992+0.j        ]\n",
      " [ 0.1660524 +0.j         -0.02056261-0.05744314j -0.02056261+0.05744314j\n",
      "  -0.3337177 -0.04677901j -0.3337177 +0.04677901j  0.37913383+0.161863j\n",
      "   0.37913383-0.161863j   -0.41617538+0.j         -0.023467  +0.j\n",
      "  -0.08406524+0.j        ]\n",
      " [-0.33887746+0.j         -0.21834815+0.10996037j -0.21834815-0.10996037j\n",
      "  -0.0037118 +0.2158249j  -0.0037118 -0.2158249j  -0.06172038-0.05804918j\n",
      "  -0.06172038+0.05804918j -0.24053879+0.j          0.03655223+0.j\n",
      "   0.41256483+0.j        ]]\n"
     ]
    }
   ],
   "source": [
    "# First make the m by m matrix\n",
    "D = rng.standard_normal(m * m).reshape(m,m)\n",
    "\n",
    "true_eigenvalues_D, true_eigenvectors_D = np.linalg.eig(D)\n",
    "\n",
    "print('True Eigenvalues are:')\n",
    "print(*true_eigenvalues_D)\n",
    "\n",
    "print('Associated Eigenvectors are:')\n",
    "print(true_eigenvectors_D)"
   ]
  },
  {
   "cell_type": "markdown",
   "metadata": {},
   "source": [
    "Let's plot the true eigenvalues."
   ]
  },
  {
   "cell_type": "code",
   "execution_count": 38,
   "metadata": {},
   "outputs": [
    {
     "data": {
      "image/png": "[encoded data removed]",
      "text/plain": [
       "<Figure size 432x288 with 1 Axes>"
      ]
     },
     "metadata": {
      "needs_background": "light"
     },
     "output_type": "display_data"
    }
   ],
   "source": [
    "# Take apart the complex numbers into Re-Im components\n",
    "Re_exact = [v.real for v in true_eigenvalues_D]\n",
    "Im_exact = [v.imag for v in true_eigenvalues_D]\n",
    "plt.scatter(Re_exact, Im_exact)\n",
    "plt.grid(True)\n",
    "plt.xlabel('Re')\n",
    "plt.ylabel('Im')\n",
    "plt.title('Complex eigenvalues of the random non-symmetric matrix')\n",
    "plt.savefig('Figures/f3.eps')\n",
    "plt.show()"
   ]
  },
  {
   "cell_type": "markdown",
   "metadata": {},
   "source": [
    "Let's do power iteration!"
   ]
  },
  {
   "cell_type": "code",
   "execution_count": 107,
   "metadata": {},
   "outputs": [],
   "source": [
    "n_iter = 200\n",
    "init_guess = np.zeros(10, np.complex)\n",
    "init_guess[2] = 1 + 1j\n",
    "iterates_D, eigens_D = power_iter(D, n_iter, init_guess=init_guess)\n",
    "estimate_eigenvalue_D = eigens_D[-1]\n",
    "errors_D = abs(eigens_D - true_eigenvalues_D[0])"
   ]
  },
  {
   "cell_type": "code",
   "execution_count": 108,
   "metadata": {},
   "outputs": [
    {
     "data": {
      "image/png": "[encoded data removed]",
      "text/plain": [
       "<Figure size 432x288 with 1 Axes>"
      ]
     },
     "metadata": {
      "needs_background": "light"
     },
     "output_type": "display_data"
    }
   ],
   "source": [
    "plt.plot(np.arange(n_iter), errors_D)\n",
    "plt.yscale('log')\n",
    "plt.xlabel('Iterates')\n",
    "plt.ylabel('absolute error')\n",
    "plt.title('Power iteration error of leading eigenvalue')\n",
    "plt.savefig('Figures/f4.eps')"
   ]
  },
  {
   "cell_type": "code",
   "execution_count": 44,
   "metadata": {},
   "outputs": [
    {
     "data": {
      "text/plain": [
       "4.440892098500626e-15"
      ]
     },
     "execution_count": 44,
     "metadata": {},
     "output_type": "execute_result"
    }
   ],
   "source": [
    "errors_D[-1]"
   ]
  },
  {
   "cell_type": "markdown",
   "metadata": {},
   "source": [
    "Yikes! We're not able to get a particularily stable convergence/sequence of iterates, but our final error is respectable, albeit it took many more iterations to get to the same tolerance (we're still talking about hundreds of iterations).\n",
    "\n",
    "Let's check if Rayleigh Quotient iteration will give us a better result for the non-symetric matrix."
   ]
  },
  {
   "cell_type": "code",
   "execution_count": 49,
   "metadata": {},
   "outputs": [],
   "source": [
    "init_guess = np.zeros(D.shape[0])\n",
    "init_guess[1] = 1\n",
    "nsteps = 10\n",
    "eigenvec_iter_D, eigenval_iter_D = RQiter(D, nsteps, init_guess)"
   ]
  },
  {
   "cell_type": "code",
   "execution_count": 50,
   "metadata": {},
   "outputs": [
    {
     "data": {
      "image/png": "[encoded data removed]",
      "text/plain": [
       "<Figure size 432x288 with 1 Axes>"
      ]
     },
     "metadata": {
      "needs_background": "light"
     },
     "output_type": "display_data"
    }
   ],
   "source": [
    "np_eigenval_iter_D = np.asarray(eigenval_iter_D)\n",
    "loc = np.argmin(np.abs(np_eigenval_iter_D[-1] - true_eigenvalues_D))\n",
    "plt.plot(np.arange(nsteps+1), np.abs(np_eigenval_iter_D - true_eigenvalues_D[loc]))\n",
    "plt.yscale('log')\n",
    "plt.title('RQ error as a function of number of iterations')\n",
    "plt.ylabel('Absolute error')\n",
    "plt.xlabel('Iteration')\n",
    "plt.savefig('Figures/f5.eps')\n",
    "plt.show()\n"
   ]
  },
  {
   "cell_type": "markdown",
   "metadata": {},
   "source": [
    "That seems to be working about as good (it's much better than power iteration), but it's not nearly as good as the symmetric matrix. Note that the first few iterations are not significantly useful for this iteration, whereas we see immediate steps towards the eigenvalue in the symmetric case."
   ]
  },
  {
   "cell_type": "code",
   "execution_count": 103,
   "metadata": {},
   "outputs": [
    {
     "name": "stdout",
     "output_type": "stream",
     "text": [
      "283\n"
     ]
    }
   ],
   "source": [
    "eigenvalues_found = np.full(m, fill_value=np.inf, dtype=np.cdouble)\n",
    "n_eigenvalues_found = 0\n",
    "eigenvectors_found = []\n",
    "ntests = 0\n",
    "while n_eigenvalues_found < m:\n",
    "    ntests += 1\n",
    "    # Loop until we find all eigenvalues\n",
    "    ej_1 = np.zeros(m)\n",
    "    ej_1[1] = 1\n",
    "    ej_1 = 1j * ej_1\n",
    "    eigen_guess = rng.standard_normal(m) + ej_1 # get a random guess and a complex component\n",
    "    eigen_guess = eigen_guess / np.linalg.norm(eigen_guess)\n",
    "    evec_iter, eval_iter = RQiter(D, 12, eigen_guess)  # iterate to the eigenvalue\n",
    "    # Check that we converged \n",
    "    #if abs(eval_iter[-2] - eval_iter[-1]) > 10 ** (-14):\n",
    "    #    continue\n",
    "    \n",
    "    #See if we already found that eigenvalue\n",
    "    eigen_errors = np.abs(eigenvalues_found - eval_iter[-1])\n",
    "    if ntests == 1:\n",
    "        # The first eigenvalue must be added\n",
    "        eigenvalues_found[n_eigenvalues_found] = eval_iter[-1]\n",
    "        n_eigenvalues_found += 1\n",
    "        eigenvectors_found.append(evec_iter[-1])\n",
    "    elif np.amin(eigen_errors) > (10 ** -10):\n",
    "        # eigenvalue must be different enough\n",
    "        eigenvalues_found[n_eigenvalues_found] = eval_iter[-1]\n",
    "        n_eigenvalues_found += 1\n",
    "        eigenvectors_found.append(evec_iter[-1])\n",
    "    if ntests > 2000:  # ensure we stop eventually\n",
    "        break\n",
    "print(ntests)"
   ]
  },
  {
   "cell_type": "markdown",
   "metadata": {},
   "source": [
    "We are definately finding repeated eigenvalues (as ntests >> 10)\n",
    "\n",
    "Let's sort the values we got to see that we don't have any repeats and we found about the right quantities"
   ]
  },
  {
   "cell_type": "code",
   "execution_count": 104,
   "metadata": {},
   "outputs": [
    {
     "data": {
      "text/plain": [
       "array([-1.88307934+2.77555756e-17j, -1.27191375-1.81804596e+00j,\n",
       "       -1.27191375+1.81804596e+00j, -0.56730715-2.14124689e+00j,\n",
       "       -0.56730715+2.14124689e+00j,  0.01667825+1.66967135e-17j,\n",
       "        0.3009608 +1.08420217e-19j,  1.86225826-1.33776293e+00j,\n",
       "        1.86225826+1.33776293e+00j,  3.12223332+1.11022302e-16j])"
      ]
     },
     "execution_count": 104,
     "metadata": {},
     "output_type": "execute_result"
    }
   ],
   "source": [
    "np.sort(eigenvalues_found)"
   ]
  },
  {
   "cell_type": "code",
   "execution_count": 105,
   "metadata": {},
   "outputs": [
    {
     "data": {
      "text/plain": [
       "array([-1.88307934+0.j        , -1.27191375-1.81804596j,\n",
       "       -1.27191375+1.81804596j, -0.56730715-2.14124689j,\n",
       "       -0.56730715+2.14124689j,  0.01667825+0.j        ,\n",
       "        0.3009608 +0.j        ,  1.86225826-1.33776293j,\n",
       "        1.86225826+1.33776293j,  3.12223332+0.j        ])"
      ]
     },
     "execution_count": 105,
     "metadata": {},
     "output_type": "execute_result"
    }
   ],
   "source": [
    "np.sort(true_eigenvalues_D)"
   ]
  },
  {
   "cell_type": "markdown",
   "metadata": {},
   "source": [
    "Let's make some plots to confirm, but it looks like the values are close. the order seems a little off"
   ]
  },
  {
   "cell_type": "code",
   "execution_count": 106,
   "metadata": {},
   "outputs": [
    {
     "data": {
      "image/png": "[encoded data removed]",
      "text/plain": [
       "<Figure size 432x288 with 2 Axes>"
      ]
     },
     "metadata": {
      "needs_background": "light"
     },
     "output_type": "display_data"
    }
   ],
   "source": [
    "# Take apart the complex numbers into Re-Im components\n",
    "Re_exact = [v.real for v in eigenvalues_found]\n",
    "Im_exact = [v.imag for v in eigenvalues_found]\n",
    "fig,ax = plt.subplots(2)\n",
    "ax[0].scatter(Re_exact, Im_exact)\n",
    "ax[0].grid(True)\n",
    "ax[0].set_xlabel('Re')\n",
    "ax[0].set_ylabel('Im')\n",
    "ax[0].set_title('RQI values')\n",
    "\n",
    "Re_exact = [v.real for v in true_eigenvalues_D]\n",
    "Im_exact = [v.imag for v in true_eigenvalues_D]\n",
    "ax[1].scatter(Re_exact, Im_exact)\n",
    "ax[1].grid(True)\n",
    "ax[1].set_xlabel('Re')\n",
    "ax[1].set_ylabel('Im')\n",
    "ax[1].set_title('True Eigenvalues')\n",
    "plt.tight_layout()\n",
    "plt.savefig('Figures/f6.eps')\n",
    "plt.show()"
   ]
  },
  {
   "cell_type": "code",
   "execution_count": null,
   "metadata": {},
   "outputs": [],
   "source": []
  }
 ],
 "metadata": {
  "kernelspec": {
   "display_name": "Python 3",
   "language": "python",
   "name": "python3"
  },
  "language_info": {
   "codemirror_mode": {
    "name": "ipython",
    "version": 3
   },
   "file_extension": ".py",
   "mimetype": "text/x-python",
   "name": "python",
   "nbconvert_exporter": "python",
   "pygments_lexer": "ipython3",
   "version": "3.8.5"
  }
 },
 "nbformat": 4,
 "nbformat_minor": 4
}
